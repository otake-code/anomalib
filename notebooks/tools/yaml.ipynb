{
 "cells": [
  {
   "cell_type": "markdown",
   "metadata": {},
   "source": [
    "yaml作成"
   ]
  },
  {
   "cell_type": "code",
   "execution_count": 3,
   "metadata": {},
   "outputs": [
    {
     "name": "stdout",
     "output_type": "stream",
     "text": [
      "すべてのYAMLファイルが生成されました。\n"
     ]
    }
   ],
   "source": [
    "import yaml\n",
    "from pathlib import Path\n",
    "\n",
    "# 製品カテゴリのリスト\n",
    "product_names = [\n",
    "    \"chips\", \"chocolate\", \"cookie\", \"fried_dough_cookie\", \"marshmallow\", \"ramune\",\n",
    "    \"rice_cracker\",\n",
    "    \"sandwich_cookie\", \"small_ramune\"\n",
    "    , \"snack\", \"soft_candy\", \"stick_snack\"\n",
    "]\n",
    "\n",
    "# 出力リストを作成する関数\n",
    "def generate_directories(product_name):\n",
    "    source_dir = Path(f\"/data01/snacks/{product_name}\")\n",
    "    test_dir = Path(f\"/data01/snacks/test/{product_name}\")\n",
    "\n",
    "    normal_dirs = []\n",
    "    abnormal_dirs = {}\n",
    "    test_dirs = []  # normal_test_dir用のリスト\n",
    "\n",
    "    # source_dirのすべてのサブフォルダ（製品名フォルダ）を探索\n",
    "    for product_dir in source_dir.glob(\"*/\"):  # 製品ごとのフォルダを探索\n",
    "        current_product_name = product_dir.name\n",
    "\n",
    "        # \"__templete\" フォルダを無視する\n",
    "        if current_product_name == \"__templete\":\n",
    "            continue\n",
    "\n",
    "        # 正常なディレクトリを追加\n",
    "        normal_dir = f\"{current_product_name}/ok\"\n",
    "        normal_dirs.append(normal_dir)\n",
    "\n",
    "        # 欠陥フォルダのパスを追加: \"ok\"以外のフォルダを欠陥として扱う\n",
    "        for defect_dir in product_dir.glob(\"*\"):\n",
    "            if defect_dir.is_dir() and defect_dir.name != \"ok\":\n",
    "                defect_type = defect_dir.name\n",
    "                if defect_type not in abnormal_dirs:\n",
    "                    abnormal_dirs[defect_type] = []\n",
    "                abnormal_dirs[defect_type].append(f\"{current_product_name}/{defect_type}\")\n",
    "\n",
    "    # test_dirのすべてのサブフォルダ（製品名フォルダ）を探索\n",
    "    for product_dir in test_dir.glob(\"*/\"):  # テスト用の製品フォルダを探索\n",
    "        current_product_name = product_dir.name\n",
    "\n",
    "        # テスト用の正常ディレクトリを追加\n",
    "        test_ok_dir = test_dir / current_product_name / \"ok\"  # 正しいtest_dirを参照\n",
    "        test_dirs.append(str(test_ok_dir))\n",
    "\n",
    "    return normal_dirs, abnormal_dirs, test_dirs\n",
    "\n",
    "# 結果をYAML形式に出力する関数\n",
    "def generate_yaml_file(normal_dirs, abnormal_dirs, test_dirs, product_name):\n",
    "    yaml_output = 'class_path: anomalib.data.Folder\\n'\n",
    "    yaml_output += 'init_args:\\n'\n",
    "    yaml_output += f'  name: \"SnackDataset\"\\n'\n",
    "    yaml_output += f'  root: \"/data01/snacks/{product_name}\"\\n'\n",
    "\n",
    "    # normal_dirの出力\n",
    "    yaml_output += '  normal_dir:\\n'\n",
    "    for normal in normal_dirs:\n",
    "        yaml_output += f'    - \"{normal}\"\\n'\n",
    "\n",
    "    # abnormal_dirの出力\n",
    "    yaml_output += '  abnormal_dir:\\n'\n",
    "    for dirs in abnormal_dirs.values():\n",
    "        for defect_dir in dirs:\n",
    "            yaml_output += f'    - \"{defect_dir}\"\\n'\n",
    "\n",
    "    # normal_test_dirの出力（testディレクトリの製品名ごとのokフォルダ）\n",
    "    yaml_output += '  normal_test_dir:\\n'\n",
    "    for test in test_dirs:\n",
    "        yaml_output += f'    - \"{test}\"\\n'\n",
    "\n",
    "    # その他の設定\n",
    "    yaml_output += '  extensions: [\".png\"]\\n'\n",
    "    yaml_output += '  image_size: [256, 256]\\n'\n",
    "    yaml_output += '  train_batch_size: 32\\n'\n",
    "    yaml_output += '  eval_batch_size: 32\\n'\n",
    "    yaml_output += '  num_workers: 8\\n'\n",
    "    yaml_output += '  task: classification\\n'\n",
    "    yaml_output += '  test_split_mode: from_dir\\n'\n",
    "    yaml_output += '  test_split_ratio: 0.2\\n'\n",
    "    yaml_output += '  val_split_mode: same_as_test\\n'\n",
    "    yaml_output += '  val_split_ratio: 0.5\\n'\n",
    "    yaml_output += '  seed: null\\n'\n",
    "\n",
    "    # ファイルに書き込み\n",
    "    with open(f\"yaml/{product_name}_classification.yaml\", \"w\") as file:\n",
    "        file.write(yaml_output)\n",
    "        # YAMLファイルが存在しない場合にのみ作成\n",
    "        yaml_file_path = Path(f\"yaml/{product_name}_classification.yaml\")\n",
    "        if not yaml_file_path.exists():\n",
    "            generate_yaml_file(normal_dirs, abnormal_dirs, test_dirs, product_name)\n",
    "# 各製品カテゴリに対してYAMLファイルを生成\n",
    "for product_name in product_names:\n",
    "    normal_dirs, abnormal_dirs, test_dirs = generate_directories(product_name)\n",
    "    generate_yaml_file(normal_dirs, abnormal_dirs, test_dirs, product_name)\n",
    "\n",
    "# 結果の確認\n",
    "print(\"すべてのYAMLファイルが生成されました。\")\n"
   ]
  },
  {
   "cell_type": "markdown",
   "metadata": {},
   "source": [
    "合計枚数カウント"
   ]
  },
  {
   "cell_type": "code",
   "execution_count": null,
   "metadata": {},
   "outputs": [],
   "source": []
  },
  {
   "cell_type": "markdown",
   "metadata": {},
   "source": [
    "カテゴリチェック"
   ]
  },
  {
   "cell_type": "code",
   "execution_count": null,
   "metadata": {},
   "outputs": [],
   "source": []
  }
 ],
 "metadata": {
  "kernelspec": {
   "display_name": "develop",
   "language": "python",
   "name": "python3"
  },
  "language_info": {
   "codemirror_mode": {
    "name": "ipython",
    "version": 3
   },
   "file_extension": ".py",
   "mimetype": "text/x-python",
   "name": "python",
   "nbconvert_exporter": "python",
   "pygments_lexer": "ipython3",
   "version": "3.10.14"
  }
 },
 "nbformat": 4,
 "nbformat_minor": 2
}
