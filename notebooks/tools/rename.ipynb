{
 "cells": [
  {
   "cell_type": "code",
   "execution_count": null,
   "metadata": {},
   "outputs": [],
   "source": [
    "import os\n",
    "\n",
    "# フォルダのルートパス\n",
    "root_dir = \"/data01/snacks\"\n",
    "\n",
    "# 変更したいフォルダ名のペアを辞書で管理\n",
    "# 例: \"old_name\" を \"new_name\" に変更\n",
    "rename_map = {\n",
    "    \"template\": \"templete\",\n",
    "    \"cut\": \"scratch\"\n",
    "}\n",
    "\n",
    "# フォルダの探索と名前変更\n",
    "for dirpath, dirnames, filenames in os.walk(root_dir):\n",
    "    for dirname in dirnames:\n",
    "        # 辞書にある名前を変更\n",
    "        if dirname in rename_map:\n",
    "            old_path = os.path.join(dirpath, dirname)\n",
    "            new_path = os.path.join(dirpath, rename_map[dirname])\n",
    "\n",
    "            # 名前を変更\n",
    "            os.rename(old_path, new_path)\n",
    "\n",
    "            # 変更が行われたフォルダのフルパスをわかりやすく表示\n",
    "            relative_old_path = os.path.relpath(old_path, root_dir)\n",
    "            relative_new_path = os.path.relpath(new_path, root_dir)\n",
    "            print(f\"Renamed: {relative_old_path} -> {relative_new_path}\")\n",
    "\n",
    "print(\"フォルダ名の変更が完了しました。\")\n"
   ]
  }
 ],
 "metadata": {
  "kernelspec": {
   "display_name": "snack",
   "language": "python",
   "name": "python3"
  },
  "language_info": {
   "name": "python",
   "version": "3.10.15"
  }
 },
 "nbformat": 4,
 "nbformat_minor": 2
}
