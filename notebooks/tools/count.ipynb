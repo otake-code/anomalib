{
 "cells": [
  {
   "cell_type": "markdown",
   "metadata": {},
   "source": [
    "欠陥数の統一"
   ]
  },
  {
   "cell_type": "code",
   "execution_count": 10,
   "metadata": {},
   "outputs": [
    {
     "name": "stdout",
     "output_type": "stream",
     "text": [
      "rice_cracker/yukinoyado のフォルダ: 6 テンプレートのフォルダ数: 5\n",
      "rice_cracker/mamedaizu_senbei のフォルダ: 6 テンプレートのフォルダ数: 5\n",
      "rice_cracker/hagoromo_arare のフォルダ: 6 テンプレートのフォルダ数: 5\n",
      "rice_cracker/ebi_usuyaki のフォルダ: 4 テンプレートのフォルダ数: 5\n",
      "rice_cracker/puti_usuyaki のフォルダ: 4 テンプレートのフォルダ数: 5\n",
      "rice_cracker/kameda_usuyaki_salad のフォルダ: 4 テンプレートのフォルダ数: 5\n",
      "rice_cracker/ikamirinn のフォルダ: 4 テンプレートのフォルダ数: 5\n",
      "rice_cracker/puti_ume のフォルダ: 4 テンプレートのフォルダ数: 5\n",
      "rice_cracker/ebisenbei のフォルダ: 4 テンプレートのフォルダ数: 5\n",
      "rice_cracker/gohoubisenbei のフォルダ: 4 テンプレートのフォルダ数: 5\n",
      "rice_cracker/puti_ebisennbei のフォルダ: 4 テンプレートのフォルダ数: 5\n",
      "rice_cracker/ebisenmix_beige のフォルダ: 4 テンプレートのフォルダ数: 5\n",
      "rice_cracker/karurusu のフォルダ: 4 テンプレートのフォルダ数: 5\n",
      "rice_cracker/ebisenmix_yellow のフォルダ: 4 テンプレートのフォルダ数: 5\n",
      "rice_cracker/ebisenbeiokonomi_mirin のフォルダ: 4 テンプレートのフォルダ数: 5\n",
      "rice_cracker/jakokibun のフォルダ: 4 テンプレートのフォルダ数: 5\n",
      "rice_cracker/ebisenmix_nori のフォルダ: 4 テンプレートのフォルダ数: 5\n",
      "rice_cracker/mirinage のフォルダ: 4 テンプレートのフォルダ数: 5\n",
      "rice_cracker/kameda_usuyaki_ebi のフォルダ: 4 テンプレートのフォルダ数: 5\n",
      "cookie/salty のフォルダ: 7 テンプレートのフォルダ数: 6\n",
      "cookie/cocoachoco のフォルダ: 5 テンプレートのフォルダ数: 6\n",
      "cookie/lemonpack のフォルダ: 7 テンプレートのフォルダ数: 6\n",
      "cookie/hervest のフォルダ: 5 テンプレートのフォルダ数: 6\n",
      "cookie/pretzel のフォルダ: 4 テンプレートのフォルダ数: 6\n",
      "chips/kanichip のフォルダ: 4 テンプレートのフォルダ数: 5\n",
      "snack/vegetaberu_red のフォルダ: 3 テンプレートのフォルダ数: 5\n",
      "snack/vegetaberu_yellow のフォルダ: 3 テンプレートのフォルダ数: 5\n",
      "snack/vegetaberu_green のフォルダ: 3 テンプレートのフォルダ数: 5\n",
      "snack/fuwattoebisenn のフォルダ: 4 テンプレートのフォルダ数: 5\n",
      "snack/sapporo_bbq のフォルダ: 4 テンプレートのフォルダ数: 5\n",
      "ramune/mentos のフォルダ: 3 テンプレートのフォルダ数: 4\n",
      "chocolate/meiji_milk のフォルダ: 6 テンプレートのフォルダ数: 7\n",
      "chocolate/carre_de_chocolat のフォルダ: 6 テンプレートのフォルダ数: 7\n",
      "chocolate/ghana_roast_milk のフォルダ: 6 テンプレートのフォルダ数: 7\n",
      "chocolate/chocolatekouka のフォルダ: 6 テンプレートのフォルダ数: 7\n",
      "chocolate/alfort のフォルダ: 6 テンプレートのフォルダ数: 7\n",
      "chocolate/amaou_strewberry_choco のフォルダ: 6 テンプレートのフォルダ数: 7\n",
      "chocolate/zero_suger のフォルダ: 6 テンプレートのフォルダ数: 7\n",
      "chocolate/ghana_milk のフォルダ: 6 テンプレートのフォルダ数: 7\n",
      "chocolate/lotte_cacaonomegumi72 のフォルダ: 7 テンプレートのフォルダ数: 7\n",
      "sandwich_cookie/bisco_butter のフォルダ: 6 テンプレートのフォルダ数: 7\n",
      "カテゴリ 'test' にテンプレートフォルダ '__templete' が見つかりません。\n",
      "カテゴリ 'annotations' にテンプレートフォルダ '__templete' が見つかりません。\n"
     ]
    }
   ],
   "source": [
    "import os\n",
    "\n",
    "def compare_with_template(base_path):\n",
    "    categories = os.listdir(base_path)\n",
    "\n",
    "    for category in categories:\n",
    "        # カテゴリ内のテンプレートフォルダのパス\n",
    "        template_path = os.path.join(base_path, category, '__templete')\n",
    "\n",
    "        if not os.path.isdir(template_path):\n",
    "            print(f\"カテゴリ '{category}' にテンプレートフォルダ '__templete' が見つかりません。\")\n",
    "            continue\n",
    "\n",
    "        # テンプレートフォルダ内のサブフォルダを取得\n",
    "        template_subfolders = set(os.listdir(template_path))\n",
    "        template_count = len(template_subfolders)\n",
    "\n",
    "        # カテゴリ内の各製品フォルダをチェック\n",
    "        products_path = os.path.join(base_path, category)\n",
    "        for product in os.listdir(products_path):\n",
    "            product_path = os.path.join(products_path, product)\n",
    "\n",
    "            # '__templete' フォルダはスキップ\n",
    "            if product == '__templete' or not os.path.isdir(product_path):\n",
    "                continue\n",
    "\n",
    "            # 製品フォルダ内のサブフォルダを取得\n",
    "            product_subfolders = set(os.listdir(product_path))\n",
    "            product_count = len(product_subfolders)\n",
    "\n",
    "            # テンプレートフォルダと製品フォルダのサブフォルダ数を比較\n",
    "            if template_subfolders != product_subfolders:\n",
    "                print(f\"{category}/{product} のフォルダ: {product_count} テンプレートのフォルダ数: {template_count}\")\n",
    "                # print(f\"  テンプレートのサブフォルダ数: {template_count}\")\n",
    "                # print(f\"  製品フォルダのサブフォルダ数: {product_count}\")\n",
    "            # else:\n",
    "            #     print(f\"カテゴリ '{category}' の製品 '{product}' はテンプレートと同じサブフォルダ構造です。\")\n",
    "\n",
    "# ベースパスを指定\n",
    "base_path = \"/data01/snacks\"\n",
    "compare_with_template(base_path)\n"
   ]
  },
  {
   "cell_type": "markdown",
   "metadata": {},
   "source": []
  },
  {
   "cell_type": "markdown",
   "metadata": {},
   "source": [
    "合計枚数"
   ]
  },
  {
   "cell_type": "code",
   "execution_count": 4,
   "metadata": {},
   "outputs": [
    {
     "name": "stdout",
     "output_type": "stream",
     "text": [
      "Main folder images: 4112\n",
      "Test folder images: 1928\n"
     ]
    }
   ],
   "source": [
    "folder_path = \"/data01/snacks\"\n",
    "\n",
    "# 画像の合計枚数を数える関数\n",
    "def count_images_in_folders(folder_path, subfolder=\"\"):\n",
    "    total_count = 0\n",
    "    path_to_count = os.path.join(folder_path, subfolder)\n",
    "    # フォルダ内のサブフォルダを再帰的に探索\n",
    "    for root, dirs, files in os.walk(path_to_count):\n",
    "        # 'test' サブフォルダをスキップ\n",
    "        dirs[:] = [d for d in dirs if d != 'test']\n",
    "        # 画像ファイル（.png）のみをカウント\n",
    "        image_files = [f for f in files if f.lower().endswith(('.png'))]\n",
    "        total_count += len(image_files)\n",
    "    return total_count\n",
    "\n",
    "# 合計枚数を計算\n",
    "total_images_main = count_images_in_folders(folder_path)\n",
    "total_images_test = count_images_in_folders(folder_path, \"test\")\n",
    "\n",
    "print(f\"Main folder images: {total_images_main}\")\n",
    "print(f\"Test folder images: {total_images_test}\")\n"
   ]
  },
  {
   "cell_type": "markdown",
   "metadata": {},
   "source": [
    "画像枚数が10以上か確認"
   ]
  },
  {
   "cell_type": "code",
   "execution_count": 14,
   "metadata": {},
   "outputs": [
    {
     "name": "stdout",
     "output_type": "stream",
     "text": [
      "rice_cracker/kannkokunorifumi は条件を満たしていません: 欠陥フォルダの合計画像が 8 枚\n",
      "soft_candy/milk_caramel は条件を満たしていません: ok フォルダの画像が 9 枚\n",
      "snack/sugarrask_butter は条件を満たしていません: 欠陥フォルダの合計画像が 49 枚\n"
     ]
    }
   ],
   "source": [
    "import os\n",
    "\n",
    "def check_image_counts(base_path, ok_threshold=10, defect_threshold=10):\n",
    "    categories = os.listdir(base_path)\n",
    "    for category in categories:\n",
    "        category_path = os.path.join(base_path, category)\n",
    "        if not os.path.isdir(category_path):\n",
    "            continue\n",
    "\n",
    "        # 各カテゴリ内の製品フォルダをチェック\n",
    "        for product in os.listdir(category_path):\n",
    "            product_path = os.path.join(category_path, product)\n",
    "            # '__templete' フォルダは除外\n",
    "            if not os.path.isdir(product_path) or product == '__templete':\n",
    "                continue\n",
    "\n",
    "            # okフォルダと欠陥フォルダの画像枚数をチェック\n",
    "            ok_folder = os.path.join(product_path, 'ok')\n",
    "            if not os.path.isdir(ok_folder):\n",
    "                continue\n",
    "\n",
    "            # okフォルダ内の画像枚数をカウント\n",
    "            ok_images = [f for f in os.listdir(ok_folder) if f.lower().endswith(('.png', '.jpg', '.jpeg', '.bmp'))]\n",
    "            ok_image_count = len(ok_images)\n",
    "\n",
    "            # 欠陥フォルダの合計画像枚数をカウント\n",
    "            defect_image_count = 0\n",
    "            for defect_folder in os.listdir(product_path):\n",
    "                if defect_folder == 'ok' or defect_folder == '__templete' or not os.path.isdir(os.path.join(product_path, defect_folder)):\n",
    "                    continue\n",
    "\n",
    "                defect_folder_path = os.path.join(product_path, defect_folder)\n",
    "                defect_images = [f for f in os.listdir(defect_folder_path) if f.lower().endswith(('.png', '.jpg', '.jpeg', '.bmp'))]\n",
    "                defect_image_count += len(defect_images)\n",
    "\n",
    "            # 条件を満たしていない場合のメッセージを生成\n",
    "            messages = []\n",
    "            if ok_image_count < ok_threshold:\n",
    "                messages.append(f\"ok フォルダの画像が {ok_image_count} 枚\")\n",
    "            if defect_image_count < defect_threshold:\n",
    "                messages.append(f\"欠陥フォルダの合計画像が {defect_image_count} 枚\")\n",
    "\n",
    "            # 条件を満たしていない場合の出力\n",
    "            if messages:\n",
    "                print(f\"{category}/{product} は条件を満たしていません: {', '.join(messages)}\")\n",
    "\n",
    "# ベースパスを指定\n",
    "base_paths = [\n",
    "    (\"/data01/snacks\", 10, 10),  # snacks では10枚以上\n",
    "    (\"/data01/snacks/test\", 50, 50)  # snacks/test では50枚以上\n",
    "]\n",
    "\n",
    "# それぞれのパスでチェックを実行\n",
    "for base_path, ok_threshold, defect_threshold in base_paths:\n",
    "    check_image_counts(base_path, ok_threshold, defect_threshold)\n"
   ]
  }
 ],
 "metadata": {
  "kernelspec": {
   "display_name": "develop",
   "language": "python",
   "name": "python3"
  },
  "language_info": {
   "codemirror_mode": {
    "name": "ipython",
    "version": 3
   },
   "file_extension": ".py",
   "mimetype": "text/x-python",
   "name": "python",
   "nbconvert_exporter": "python",
   "pygments_lexer": "ipython3",
   "version": "3.10.14"
  }
 },
 "nbformat": 4,
 "nbformat_minor": 2
}
